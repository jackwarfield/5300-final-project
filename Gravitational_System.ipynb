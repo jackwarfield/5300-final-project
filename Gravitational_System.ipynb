{
 "cells": [
  {
   "cell_type": "markdown",
   "metadata": {},
   "source": [
    "# Gravitationally Bound System\n",
    "\n",
    "For the two-body gravitationally-interacting system, the Lagrangian is given by the equation:\n",
    "\n",
    "$$\\begin{align}\n",
    "  \\mathcal{L} = \\frac12 m_1 (\\dot{x}_1^2 + \\dot{y}_1^2)\n",
    "              + \\frac12 m_2 (\\dot{x}_2^2 + \\dot{y}_2^2)\n",
    "              + \\frac{G m_1 m_2}{r},\n",
    "\\end{align}$$\n",
    "\n",
    "where\n",
    "$\\begin{align}\n",
    "    r = \\sqrt{(x_1-x_2)^2 + (y_1-y_2)^2}.\n",
    "\\end{align}$\n",
    "\n",
    "This equation has eight variables that we care about—each position component and its associated first derivative—that will be the generalized coordinates of the Euler-Lagrange equations. For example, we have\n",
    "\n",
    "$\\begin{align}\n",
    "    \\frac{d}{dt} \\frac{\\partial \\mathcal{L}}{\\partial \\dot{x}_1}\n",
    "        =\n",
    "    \\frac{\\partial \\mathcal{L}}{\\partial x_1}\n",
    "\\end{align}$\n",
    "\n",
    "and so on. These will be put into an 8-component vector, $\\vec{y}$, with each of the components followed by its first derivative, and that vector along with $d\\vec{y}/dt$ will be used with solve_ivp to find the long-term motion of the system."
   ]
  },
  {
   "cell_type": "code",
   "execution_count": null,
   "metadata": {},
   "outputs": [],
   "source": [
    "%matplotlib notebook\n",
    "\n",
    "import numpy as np\n",
    "from scipy.integrate import odeint, solve_ivp\n",
    "\n",
    "import matplotlib.pyplot as plt\n",
    "from matplotlib import animation\n",
    "from IPython.display import HTML"
   ]
  },
  {
   "cell_type": "code",
   "execution_count": null,
   "metadata": {},
   "outputs": [],
   "source": [
    "class LagrangianGravitySystem():\n",
    "    \"\"\"\n",
    "    implements the parameters and Lagrange's equations for a\n",
    "    gravitationally-bound system\n",
    "     \n",
    "    Parameters\n",
    "    ----------\n",
    "    m1   | float       | mass of first body\n",
    "    m2   | float       | mass of second body\n",
    "    pos1 | float array | initial (x,y) position of body 1\n",
    "    pos2 | float array | initial (x,y) position of body 2\n",
    "    v1   | float array | initial (x,y) velocity of body 1\n",
    "    v2   | float array | initial (x,y) velocity of body 2\n",
    "\n",
    "    Methods\n",
    "    -------\n",
    "    dy_dt(t, y)\n",
    "        Returns the right side of the differential equation in vector y, \n",
    "        given time t and the corresponding value of y.\n",
    "    \"\"\"\n",
    "    def __init__(self, m1, m2, pos1, pos2, v1, v2, G=2.\n",
    "                ):\n",
    "        self.G  = G # gravity constant cgs\n",
    "        self.m1 = m1\n",
    "        self.m2 = m2\n",
    "        self.p1 = pos1\n",
    "        self.p2 = pos2\n",
    "        self.v1 = v1\n",
    "        self.v2 = v2\n",
    "        self.r  = np.sqrt( (self.p1[0]-self.p2[0])**2 + (self.p1[1]-self.p2[1])**2 )\n",
    "    \n",
    "    def dy_dt(self, t, y):\n",
    "        \"\"\"\n",
    "        This function returns the right-hand side of the diffeq: \n",
    "        [x1, vx1, y1, vy1, x2, vx2, y2, vy2]\n",
    "        \n",
    "        Parameters\n",
    "        ----------\n",
    "        t | float       | time\n",
    "        y | float array | An 8 component vector for each position and velocity component\n",
    "            \n",
    "        \"\"\"\n",
    "        r = np.sqrt ((y[0] - y[4])**2 + (y[2] - y[6])**2 )\n",
    "        return [y[1], -(self.G * self.m2 / r**(3.)) * (y[0] - y[4]),\\\n",
    "                y[3], -(self.G * self.m2 / r**(3.)) * (y[2] - y[6]),\\\n",
    "                y[5],  (self.G * self.m1 / r**(3.)) * (y[0] - y[4]),\\\n",
    "                y[7],  (self.G * self.m1 / r**(3.)) * (y[2] - y[6])]\n",
    "    \n",
    "    def solve_ode(self, t_pts, \n",
    "                  abserr=1.0e-12, relerr=1.0e-12):\n",
    "        \"\"\"\n",
    "        Solve the ODE.\n",
    "        Specify smaller abserr and relerr to get more precision.\n",
    "        \"\"\"\n",
    "        y = [self.p1[0], self.v1[0], self.p1[1], self.v1[1],\\\n",
    "             self.p2[0], self.v2[0], self.p2[1], self.v2[1]] \n",
    "        solution = solve_ivp(self.dy_dt, (t_pts[0], t_pts[-1]), \n",
    "                             y, t_eval=t_pts, \n",
    "                             atol=abserr, rtol=relerr)\n",
    "        y_new = solution.y\n",
    "\n",
    "        return y_new"
   ]
  },
  {
   "cell_type": "markdown",
   "metadata": {},
   "source": [
    "We are going to create an object from this class from the center of mass frame for an object orbiting another with 100 times its mass and then animate this system."
   ]
  },
  {
   "cell_type": "code",
   "execution_count": null,
   "metadata": {},
   "outputs": [],
   "source": [
    "lgs = LagrangianGravitySystem (m1=100., m2=1., pos1=[0,0], pos2=[1.5,0], v1=[0,-10./100.], v2=[0,10], G=1.)\n",
    "tpts = np.arange (0,30.01,0.01)\n",
    "vec = lgs.solve_ode (t_pts=tpts)"
   ]
  },
  {
   "cell_type": "code",
   "execution_count": null,
   "metadata": {},
   "outputs": [],
   "source": [
    "%%capture\n",
    "\n",
    "fig_anim = plt.figure()\n",
    "ax_anim = fig_anim.add_subplot(1,1,1)\n",
    "ax_anim.set_xlim(-5., 2.)\n",
    "ax_anim.set_ylim(-3., 3.)\n",
    "ax_anim.set_aspect (1)\n",
    "ax_anim.axis ('off')\n",
    "\n",
    "# By assigning the first return from plot to line_anim, we can later change\n",
    "#  the values in the line.\n",
    "line_anim1, = ax_anim.plot(vec[4], \n",
    "                            vec[6],\n",
    "                            color='#bb0000', lw=0.5)\n",
    "pt1_anim, = ax_anim.plot (vec[4], vec[6], marker='o', color='#bb0000', markersize=8.)\n",
    "\n",
    "line_anim2, = ax_anim.plot(vec[0], \n",
    "                            vec[2],\n",
    "                            color='#666666', lw=0.5)\n",
    "pt2_anim, = ax_anim.plot(vec[0], vec[2], marker='o', color='#666666', markersize=8.)\n",
    "\n",
    "fig_anim.tight_layout()"
   ]
  },
  {
   "cell_type": "code",
   "execution_count": null,
   "metadata": {},
   "outputs": [],
   "source": [
    "def animate_gravity(i):\n",
    "    \"\"\"This is the function called by FuncAnimation to create each frame,\n",
    "        numbered by i.  So each i corresponds to a point in the t_pts\n",
    "        array, with index i.\n",
    "    \"\"\"\n",
    "    i = 4*i\n",
    "    line_anim1.set_data (vec[4], vec[6])  # overwrite line_anim with new points\n",
    "    pt1_anim.set_data (vec[4][i], vec[6][i])\n",
    "    line_anim2.set_data (vec[0], vec[2])  # overwrite line_anim with new points\n",
    "    pt2_anim.set_data (vec[0][i], vec[2][i])\n",
    "    return (line_anim1,)   # this is needed for blit=True to work"
   ]
  },
  {
   "cell_type": "code",
   "execution_count": null,
   "metadata": {},
   "outputs": [],
   "source": [
    "frame_interval = 30  # time between frames\n",
    "frame_number = int (len (vec[6])/4)   # number of frames to include (index of t_pts)\n",
    "anim = animation.FuncAnimation(fig_anim, \n",
    "                               animate_gravity, \n",
    "                               init_func=None,\n",
    "                               frames=frame_number, \n",
    "                               interval=frame_interval, \n",
    "                               blit=True,\n",
    "                               repeat=False)"
   ]
  },
  {
   "cell_type": "code",
   "execution_count": null,
   "metadata": {},
   "outputs": [],
   "source": [
    "HTML(anim.to_jshtml())"
   ]
  },
  {
   "cell_type": "markdown",
   "metadata": {},
   "source": [
    "We can see that, in this center of mass frame with one massive object, the outer object traces an ellipse, with the other approximately at one of that ellipses' foci, just as we saw with the orbits in the unit on energy."
   ]
  },
  {
   "cell_type": "markdown",
   "metadata": {},
   "source": [
    "### Some other fun orbit:"
   ]
  },
  {
   "cell_type": "code",
   "execution_count": null,
   "metadata": {},
   "outputs": [],
   "source": [
    "lgs = LagrangianGravitySystem (m1=2., m2=1., pos1=[-0.5,0], pos2=[0.5,0], v1=[0,-1.], v2=[0,2.], G=2.)\n",
    "tpts = np.arange (0,30.01,0.01)\n",
    "vec = lgs.solve_ode (t_pts=tpts)"
   ]
  },
  {
   "cell_type": "code",
   "execution_count": null,
   "metadata": {},
   "outputs": [],
   "source": [
    "%%capture\n",
    "\n",
    "fig_anim = plt.figure()\n",
    "ax_anim = fig_anim.add_subplot(1,1,1)\n",
    "#ax_anim.set_xlim(-5., 2.)\n",
    "#ax_anim.set_ylim(-3., 3.)\n",
    "ax_anim.set_aspect (1)\n",
    "ax_anim.axis ('off')\n",
    "\n",
    "# By assigning the first return from plot to line_anim, we can later change\n",
    "#  the values in the line.\n",
    "line_anim1, = ax_anim.plot(vec[4], \n",
    "                            vec[6],\n",
    "                            color='#666666', lw=0.5)\n",
    "pt1_anim, = ax_anim.plot (vec[4], vec[6], marker='o', color='#666666', markersize=8.)\n",
    "\n",
    "line_anim2, = ax_anim.plot(vec[0], \n",
    "                            vec[2],\n",
    "                            color='#bb0000', lw=0.5)\n",
    "pt2_anim, = ax_anim.plot(vec[0], vec[2], marker='o', color='#bb0000', markersize=8.)\n",
    "\n",
    "fig_anim.tight_layout()"
   ]
  },
  {
   "cell_type": "code",
   "execution_count": null,
   "metadata": {},
   "outputs": [],
   "source": [
    "def animate_gravity(i):\n",
    "    \"\"\"This is the function called by FuncAnimation to create each frame,\n",
    "        numbered by i.  So each i corresponds to a point in the t_pts\n",
    "        array, with index i.\n",
    "    \"\"\"\n",
    "    i = 4*i\n",
    "    line_anim1.set_data (vec[4], vec[6])  # overwrite line_anim with new points\n",
    "    pt1_anim.set_data (vec[4][i], vec[6][i])\n",
    "    line_anim2.set_data (vec[0], vec[2])  # overwrite line_anim with new points\n",
    "    pt2_anim.set_data (vec[0][i], vec[2][i])\n",
    "    return (line_anim1,)   # this is needed for blit=True to work"
   ]
  },
  {
   "cell_type": "code",
   "execution_count": null,
   "metadata": {},
   "outputs": [],
   "source": [
    "frame_interval = 30  # time between frames\n",
    "frame_number = int (len (vec[6])/4)   # number of frames to include (index of t_pts)\n",
    "anim2 = animation.FuncAnimation(fig_anim, \n",
    "                               animate_gravity, \n",
    "                               init_func=None,\n",
    "                               frames=frame_number, \n",
    "                               interval=frame_interval, \n",
    "                               blit=True,\n",
    "                               repeat=False)"
   ]
  },
  {
   "cell_type": "code",
   "execution_count": null,
   "metadata": {},
   "outputs": [],
   "source": [
    "HTML(anim2.to_jshtml())"
   ]
  },
  {
   "cell_type": "markdown",
   "metadata": {},
   "source": [
    "Again, here, each object orbits the center of mass in an ellipse.\n",
    "\n",
    "We also can see from this second animation that both objects reach the extremes of their orbits at the same time."
   ]
  },
  {
   "cell_type": "code",
   "execution_count": null,
   "metadata": {},
   "outputs": [],
   "source": []
  }
 ],
 "metadata": {
  "kernelspec": {
   "display_name": "Python 3",
   "language": "python",
   "name": "python3"
  },
  "language_info": {
   "codemirror_mode": {
    "name": "ipython",
    "version": 3
   },
   "file_extension": ".py",
   "mimetype": "text/x-python",
   "name": "python",
   "nbconvert_exporter": "python",
   "pygments_lexer": "ipython3",
   "version": "3.7.3"
  }
 },
 "nbformat": 4,
 "nbformat_minor": 2
}
